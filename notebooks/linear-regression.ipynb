{
 "cells": [
  {
   "cell_type": "code",
   "execution_count": null,
   "metadata": {},
   "outputs": [],
   "source": [
    "import numpy as np\n",
    "import torch\n",
    "import torch.nn as nn\n",
    "import matplotlib.pyplot as plt"
   ]
  },
  {
   "cell_type": "code",
   "execution_count": null,
   "metadata": {},
   "outputs": [],
   "source": [
    "x_values = [i for i in range(11)]\n",
    "y_values = [2 * i + 1 for i in x_values]\n",
    "\n",
    "x_train = np.array(x_values, dtype=np.float32)\n",
    "x_train = x_train.reshape(-1, 1)\n",
    "\n",
    "y_train = np.array(y_values, dtype=np.float32)\n",
    "y_train = y_train.reshape(-1, 1)"
   ]
  },
  {
   "cell_type": "code",
   "execution_count": 50,
   "metadata": {},
   "outputs": [],
   "source": [
    "class LinearRegressionModel(nn.Module):\n",
    "    def __init__(self, input_dim, output_dim):\n",
    "        super().__init__()\n",
    "        self.linear = nn.Linear(input_dim, output_dim)\n",
    "\n",
    "    def forward(self, x):\n",
    "        out = self.linear(x)\n",
    "        return out"
   ]
  },
  {
   "cell_type": "code",
   "execution_count": 51,
   "metadata": {},
   "outputs": [],
   "source": [
    "# Instantiation\n",
    "input_dim = 1\n",
    "output_dim = 1\n",
    "\n",
    "model = LinearRegressionModel(input_dim, output_dim)\n",
    "\n",
    "# Loss + optimizer class\n",
    "criterion = nn.MSELoss()\n",
    "\n",
    "learning_rate = 0.01\n",
    "optimizer = torch.optim.SGD(model.parameters(), lr=learning_rate)"
   ]
  },
  {
   "cell_type": "code",
   "execution_count": 52,
   "metadata": {},
   "outputs": [
    {
     "name": "stdout",
     "output_type": "stream",
     "text": [
      "epoch 1, loss 77.44023895263672\n",
      "epoch 2, loss 6.839854717254639\n",
      "epoch 3, loss 1.0753623247146606\n",
      "epoch 4, loss 0.5993927121162415\n",
      "epoch 5, loss 0.5548554062843323\n",
      "epoch 6, loss 0.5455726385116577\n",
      "epoch 7, loss 0.5392285585403442\n",
      "epoch 8, loss 0.5331868529319763\n",
      "epoch 9, loss 0.5272312164306641\n",
      "epoch 10, loss 0.5213432908058167\n",
      "epoch 11, loss 0.5155217051506042\n",
      "epoch 12, loss 0.5097649097442627\n",
      "epoch 13, loss 0.504072368144989\n",
      "epoch 14, loss 0.49844348430633545\n",
      "epoch 15, loss 0.4928774833679199\n",
      "epoch 16, loss 0.4873737096786499\n",
      "epoch 17, loss 0.48193123936653137\n",
      "epoch 18, loss 0.4765496253967285\n",
      "epoch 19, loss 0.47122812271118164\n",
      "epoch 20, loss 0.4659661054611206\n",
      "epoch 21, loss 0.46076253056526184\n",
      "epoch 22, loss 0.45561742782592773\n",
      "epoch 23, loss 0.45052918791770935\n",
      "epoch 24, loss 0.44549843668937683\n",
      "epoch 25, loss 0.4405239224433899\n",
      "epoch 26, loss 0.43560418486595154\n",
      "epoch 27, loss 0.430740088224411\n",
      "epoch 28, loss 0.4259300231933594\n",
      "epoch 29, loss 0.42117395997047424\n",
      "epoch 30, loss 0.41647079586982727\n",
      "epoch 31, loss 0.4118194580078125\n",
      "epoch 32, loss 0.4072210490703583\n",
      "epoch 33, loss 0.4026736915111542\n",
      "epoch 34, loss 0.39817702770233154\n",
      "epoch 35, loss 0.393731027841568\n",
      "epoch 36, loss 0.3893337547779083\n",
      "epoch 37, loss 0.3849865198135376\n",
      "epoch 38, loss 0.38068726658821106\n",
      "epoch 39, loss 0.3764359652996063\n",
      "epoch 40, loss 0.37223291397094727\n",
      "epoch 41, loss 0.36807605624198914\n",
      "epoch 42, loss 0.36396586894989014\n",
      "epoch 43, loss 0.3599015176296234\n",
      "epoch 44, loss 0.3558823764324188\n",
      "epoch 45, loss 0.3519083559513092\n",
      "epoch 46, loss 0.34797877073287964\n",
      "epoch 47, loss 0.3440929055213928\n",
      "epoch 48, loss 0.3402504622936249\n",
      "epoch 49, loss 0.3364507555961609\n",
      "epoch 50, loss 0.33269399404525757\n",
      "epoch 51, loss 0.328978568315506\n",
      "epoch 52, loss 0.32530495524406433\n",
      "epoch 53, loss 0.32167232036590576\n",
      "epoch 54, loss 0.31808018684387207\n",
      "epoch 55, loss 0.31452861428260803\n",
      "epoch 56, loss 0.3110159635543823\n",
      "epoch 57, loss 0.3075430393218994\n",
      "epoch 58, loss 0.30410873889923096\n",
      "epoch 59, loss 0.3007129728794098\n",
      "epoch 60, loss 0.29735469818115234\n",
      "epoch 61, loss 0.29403409361839294\n",
      "epoch 62, loss 0.2907508611679077\n",
      "epoch 63, loss 0.2875039279460907\n",
      "epoch 64, loss 0.2842935621738434\n",
      "epoch 65, loss 0.2811189889907837\n",
      "epoch 66, loss 0.27797943353652954\n",
      "epoch 67, loss 0.27487561106681824\n",
      "epoch 68, loss 0.2718060612678528\n",
      "epoch 69, loss 0.26877090334892273\n",
      "epoch 70, loss 0.26576969027519226\n",
      "epoch 71, loss 0.2628018260002136\n",
      "epoch 72, loss 0.2598670721054077\n",
      "epoch 73, loss 0.2569650411605835\n",
      "epoch 74, loss 0.25409558415412903\n",
      "epoch 75, loss 0.25125810503959656\n",
      "epoch 76, loss 0.24845248460769653\n",
      "epoch 77, loss 0.2456780970096588\n",
      "epoch 78, loss 0.24293474853038788\n",
      "epoch 79, loss 0.2402215451002121\n",
      "epoch 80, loss 0.23753933608531952\n",
      "epoch 81, loss 0.2348865568637848\n",
      "epoch 82, loss 0.23226390779018402\n",
      "epoch 83, loss 0.22967006266117096\n",
      "epoch 84, loss 0.227105513215065\n",
      "epoch 85, loss 0.2245693802833557\n",
      "epoch 86, loss 0.22206152975559235\n",
      "epoch 87, loss 0.21958184242248535\n",
      "epoch 88, loss 0.21712981164455414\n",
      "epoch 89, loss 0.21470524370670319\n",
      "epoch 90, loss 0.21230779588222504\n",
      "epoch 91, loss 0.20993676781654358\n",
      "epoch 92, loss 0.20759238302707672\n",
      "epoch 93, loss 0.2052743285894394\n",
      "epoch 94, loss 0.2029821276664734\n",
      "epoch 95, loss 0.20071540772914886\n",
      "epoch 96, loss 0.19847384095191956\n",
      "epoch 97, loss 0.1962578147649765\n",
      "epoch 98, loss 0.19406622648239136\n",
      "epoch 99, loss 0.19189906120300293\n",
      "epoch 100, loss 0.18975597620010376\n"
     ]
    }
   ],
   "source": [
    "# Train model\n",
    "epochs = 100\n",
    "\n",
    "for epoch in range(epochs):\n",
    "    \n",
    "    # Convert numpy array to torch Variable\n",
    "    inputs = torch.from_numpy(x_train).requires_grad_()\n",
    "    labels = torch.from_numpy(y_train)\n",
    "\n",
    "    # Clear gradients w.r.t. parameters\n",
    "    optimizer.zero_grad() \n",
    "\n",
    "    # Forward pass\n",
    "    outputs = model(inputs)\n",
    "\n",
    "    # Calculate Loss\n",
    "    loss = criterion(outputs, labels)\n",
    "\n",
    "    # Calculate gradients\n",
    "    loss.backward()\n",
    "\n",
    "    # Updating parameters\n",
    "    optimizer.step()\n",
    "\n",
    "    print('epoch {}, loss {}'.format(epoch, loss.item()))"
   ]
  },
  {
   "cell_type": "code",
   "execution_count": 53,
   "metadata": {},
   "outputs": [
    {
     "data": {
      "text/plain": [
       "array([[ 0.18967707],\n",
       "       [ 2.3063707 ],\n",
       "       [ 4.4230647 ],\n",
       "       [ 6.5397587 ],\n",
       "       [ 8.656452  ],\n",
       "       [10.773146  ],\n",
       "       [12.88984   ],\n",
       "       [15.006534  ],\n",
       "       [17.123226  ],\n",
       "       [19.23992   ],\n",
       "       [21.356613  ]], dtype=float32)"
      ]
     },
     "execution_count": 53,
     "metadata": {},
     "output_type": "execute_result"
    }
   ],
   "source": [
    "# Predicted values\n",
    "predicted = model(torch.from_numpy(x_train).requires_grad_()).data.numpy()\n",
    "predicted"
   ]
  },
  {
   "cell_type": "code",
   "execution_count": 54,
   "metadata": {},
   "outputs": [
    {
     "data": {
      "text/plain": [
       "array([[ 1.],\n",
       "       [ 3.],\n",
       "       [ 5.],\n",
       "       [ 7.],\n",
       "       [ 9.],\n",
       "       [11.],\n",
       "       [13.],\n",
       "       [15.],\n",
       "       [17.],\n",
       "       [19.],\n",
       "       [21.]], dtype=float32)"
      ]
     },
     "execution_count": 54,
     "metadata": {},
     "output_type": "execute_result"
    }
   ],
   "source": [
    "# Actual values\n",
    "y_train"
   ]
  },
  {
   "cell_type": "code",
   "execution_count": 55,
   "metadata": {},
   "outputs": [
    {
     "data": {
      "image/png": "[encoded data removed]",
      "text/plain": [
       "<Figure size 640x480 with 1 Axes>"
      ]
     },
     "metadata": {},
     "output_type": "display_data"
    }
   ],
   "source": [
    "# Clear figure\n",
    "plt.clf()\n",
    "\n",
    "# Get predictions\n",
    "predicted = model(torch.from_numpy(x_train).requires_grad_()).data.numpy()\n",
    "\n",
    "# Plot true data\n",
    "plt.plot(x_train, y_train, 'go', label='True data', alpha=0.5)\n",
    "\n",
    "# Plot predictions\n",
    "plt.plot(x_train, predicted, '--', label='Predictions', alpha=0.5)\n",
    "\n",
    "# Legend and plot\n",
    "plt.legend(loc='best')\n",
    "plt.show()"
   ]
  },
  {
   "cell_type": "code",
   "execution_count": null,
   "metadata": {},
   "outputs": [],
   "source": []
  }
 ],
 "metadata": {
  "kernelspec": {
   "display_name": "ml",
   "language": "python",
   "name": "python3"
  },
  "language_info": {
   "codemirror_mode": {
    "name": "ipython",
    "version": 3
   },
   "file_extension": ".py",
   "mimetype": "text/x-python",
   "name": "python",
   "nbconvert_exporter": "python",
   "pygments_lexer": "ipython3",
   "version": "3.12.3"
  }
 },
 "nbformat": 4,
 "nbformat_minor": 2
}
